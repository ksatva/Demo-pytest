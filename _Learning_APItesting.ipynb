{
 "cells": [
  {
   "cell_type": "markdown",
   "metadata": {},
   "source": [
    "## Learning: API testing with python"
   ]
  },
  {
   "cell_type": "markdown",
   "metadata": {},
   "source": [
    "## source : https://www.youtube.com/playlist?list=PLwkyDFh-TwzL5pQseZGHY0DgVl2-dECif"
   ]
  },
  {
   "cell_type": "raw",
   "metadata": {},
   "source": [
    "1  --overview\n",
    "2  --getting the response\n",
    "3  --adding query parameters to request\n",
    "4  --Parsing the json response\n",
    "5  --HTTP methods (GET, POST, PUT, PATCH, DELETE)\n",
    "6  --Capture API calls (simple methods in browser)\n",
    "7  --REST API authentication using python (oauth)\n",
    "8  --do (backend login)\n",
    "9  --Python unit test (pytest)\n",
    "10 --pytest (ordering and dependency)\n",
    "11 --pytest (parameterization)\n",
    "12 --pytest (parrallel testing) --threads \n",
    "13 --json\n",
    "14 --pdb debugger in API testing\n",
    "15 --REST API basic authentication\n",
    "16 --REST API basic authentication with requests module\n",
    "17 --do-- session auth\n",
    "18 --json parsing with -relative json path\n",
    "19 --json parsing with -dotted-dict"
   ]
  },
  {
   "cell_type": "markdown",
   "metadata": {},
   "source": [
    "### 2 --getting the response (and) 3 --adding query parameters to request"
   ]
  },
  {
   "cell_type": "code",
   "execution_count": 10,
   "metadata": {},
   "outputs": [
    {
     "name": "stdout",
     "output_type": "stream",
     "text": [
      "<Response [200]>\n",
      "{'page': 2, 'per_page': 6, 'total': 12, 'total_pages': 2, 'data': [{'id': 7, 'email': 'michael.lawson@reqres.in', 'first_name': 'Michael', 'last_name': 'Lawson', 'avatar': 'https://s3.amazonaws.com/uifaces/faces/twitter/follettkyle/128.jpg'}, {'id': 8, 'email': 'lindsay.ferguson@reqres.in', 'first_name': 'Lindsay', 'last_name': 'Ferguson', 'avatar': 'https://s3.amazonaws.com/uifaces/faces/twitter/araa3185/128.jpg'}, {'id': 9, 'email': 'tobias.funke@reqres.in', 'first_name': 'Tobias', 'last_name': 'Funke', 'avatar': 'https://s3.amazonaws.com/uifaces/faces/twitter/vivekprvr/128.jpg'}, {'id': 10, 'email': 'byron.fields@reqres.in', 'first_name': 'Byron', 'last_name': 'Fields', 'avatar': 'https://s3.amazonaws.com/uifaces/faces/twitter/russoedu/128.jpg'}, {'id': 11, 'email': 'george.edwards@reqres.in', 'first_name': 'George', 'last_name': 'Edwards', 'avatar': 'https://s3.amazonaws.com/uifaces/faces/twitter/mrmoiree/128.jpg'}, {'id': 12, 'email': 'rachel.howell@reqres.in', 'first_name': 'Rachel', 'last_name': 'Howell', 'avatar': 'https://s3.amazonaws.com/uifaces/faces/twitter/hebertialmeida/128.jpg'}]}\n",
      "{\n",
      "    \"page\": 2,\n",
      "    \"per_page\": 6,\n",
      "    \"total\": 12,\n",
      "    \"total_pages\": 2,\n",
      "    \"data\": [\n",
      "        {\n",
      "            \"id\": 7,\n",
      "            \"email\": \"michael.lawson@reqres.in\",\n",
      "            \"first_name\": \"Michael\",\n",
      "            \"last_name\": \"Lawson\",\n",
      "            \"avatar\": \"https://s3.amazonaws.com/uifaces/faces/twitter/follettkyle/128.jpg\"\n",
      "        },\n",
      "        {\n",
      "            \"id\": 8,\n",
      "            \"email\": \"lindsay.ferguson@reqres.in\",\n",
      "            \"first_name\": \"Lindsay\",\n",
      "            \"last_name\": \"Ferguson\",\n",
      "            \"avatar\": \"https://s3.amazonaws.com/uifaces/faces/twitter/araa3185/128.jpg\"\n",
      "        },\n",
      "        {\n",
      "            \"id\": 9,\n",
      "            \"email\": \"tobias.funke@reqres.in\",\n",
      "            \"first_name\": \"Tobias\",\n",
      "            \"last_name\": \"Funke\",\n",
      "            \"avatar\": \"https://s3.amazonaws.com/uifaces/faces/twitter/vivekprvr/128.jpg\"\n",
      "        },\n",
      "        {\n",
      "            \"id\": 10,\n",
      "            \"email\": \"byron.fields@reqres.in\",\n",
      "            \"first_name\": \"Byron\",\n",
      "            \"last_name\": \"Fields\",\n",
      "            \"avatar\": \"https://s3.amazonaws.com/uifaces/faces/twitter/russoedu/128.jpg\"\n",
      "        },\n",
      "        {\n",
      "            \"id\": 11,\n",
      "            \"email\": \"george.edwards@reqres.in\",\n",
      "            \"first_name\": \"George\",\n",
      "            \"last_name\": \"Edwards\",\n",
      "            \"avatar\": \"https://s3.amazonaws.com/uifaces/faces/twitter/mrmoiree/128.jpg\"\n",
      "        },\n",
      "        {\n",
      "            \"id\": 12,\n",
      "            \"email\": \"rachel.howell@reqres.in\",\n",
      "            \"first_name\": \"Rachel\",\n",
      "            \"last_name\": \"Howell\",\n",
      "            \"avatar\": \"https://s3.amazonaws.com/uifaces/faces/twitter/hebertialmeida/128.jpg\"\n",
      "        }\n",
      "    ]\n",
      "}\n"
     ]
    }
   ],
   "source": [
    "import requests\n",
    "import json\n",
    "\n",
    "baseUrl = \"https://reqres.in\"\n",
    "\n",
    "#response = requests.get(baseUrl + \"/api/users?page=2\") #---2\n",
    "params = {'page':2} #can have multiple values  #--3\n",
    "response = requests.get(baseUrl + \"/api/users\", params=params) \n",
    "\n",
    "print(response)\n",
    "print(response.json())\n",
    "print(json.dumps(response.json(), indent = 4))"
   ]
  },
  {
   "cell_type": "markdown",
   "metadata": {},
   "source": [
    "### 4 --Parsing the Json response"
   ]
  },
  {
   "cell_type": "code",
   "execution_count": 5,
   "metadata": {},
   "outputs": [],
   "source": [
    "resp = response.json()\n",
    "#import ipdb; ipdb.set_trace() #to exit >>>import os; os._exit(1)"
   ]
  },
  {
   "cell_type": "code",
   "execution_count": 7,
   "metadata": {},
   "outputs": [
    {
     "name": "stdout",
     "output_type": "stream",
     "text": [
      "['Michael', 'Lindsay', 'Tobias', 'Byron', 'George', 'Rachel']\n"
     ]
    }
   ],
   "source": [
    "first_names = [d['first_name'] for d in resp['data']]\n",
    "print(first_names)"
   ]
  },
  {
   "cell_type": "markdown",
   "metadata": {},
   "source": [
    "### 5 --HTTP methods (GET, POST, PUT, PATCH, DELETE)"
   ]
  },
  {
   "cell_type": "code",
   "execution_count": 8,
   "metadata": {},
   "outputs": [
    {
     "name": "stdout",
     "output_type": "stream",
     "text": [
      "{'name': 'morpheus', 'job': 'leader', 'id': '414', 'createdAt': '2019-12-20T16:31:29.373Z'}\n"
     ]
    }
   ],
   "source": [
    "#POST\n",
    "payload = {\n",
    "    \"name\": \"morpheus\",\n",
    "    \"job\": \"leader\"\n",
    "}\n",
    "response = requests.post(baseUrl + '/api/users', data=payload)\n",
    "print(response.json())"
   ]
  },
  {
   "cell_type": "code",
   "execution_count": 13,
   "metadata": {},
   "outputs": [
    {
     "name": "stdout",
     "output_type": "stream",
     "text": [
      "{'name': 'morpheus', 'job': 'zion resident', 'updatedAt': '2019-12-20T16:35:24.124Z'}\n"
     ]
    }
   ],
   "source": [
    "#PUT\n",
    "payload = {\n",
    "    \"name\": \"morpheus\",\n",
    "    \"job\": \"zion resident\"\n",
    "}\n",
    "response = requests.put(baseUrl + '/api/users/2', data=payload)\n",
    "print(response.json())"
   ]
  },
  {
   "cell_type": "code",
   "execution_count": 14,
   "metadata": {},
   "outputs": [
    {
     "name": "stdout",
     "output_type": "stream",
     "text": [
      "204\n"
     ]
    }
   ],
   "source": [
    "#DELETE\n",
    "response = requests.delete(baseUrl + '/api/users/2')\n",
    "print(response.status_code)"
   ]
  },
  {
   "cell_type": "markdown",
   "metadata": {},
   "source": [
    "### 6 --Capture API calls (simple methods in browser)"
   ]
  },
  {
   "cell_type": "raw",
   "metadata": {},
   "source": [
    "IN BROWSER (CHROME/FIREFOX)\n",
    "    Inspect element ---> Network"
   ]
  },
  {
   "cell_type": "markdown",
   "metadata": {},
   "source": [
    "### 7 --REST API authentication using python (and) 8\n",
    "case 1: \n",
    "    exposed API,\n",
    "    (a) consumablze API service (b) third party integration, \n",
    "    oAuth,\n",
    "    apikey \n",
    "    \n",
    "case 2:\n",
    "    API backend,\n",
    "    form auth"
   ]
  },
  {
   "cell_type": "code",
   "execution_count": 16,
   "metadata": {},
   "outputs": [],
   "source": [
    "#pip install oauth2\n",
    "# eg1. twitter api\n",
    "# eg2. weather api\n",
    "#.."
   ]
  },
  {
   "cell_type": "code",
   "execution_count": null,
   "metadata": {},
   "outputs": [],
   "source": [
    "#form authentication\n",
    "#..\n",
    "#.."
   ]
  },
  {
   "cell_type": "markdown",
   "metadata": {},
   "source": [
    "#### case2: Backend login "
   ]
  },
  {
   "cell_type": "code",
   "execution_count": 32,
   "metadata": {},
   "outputs": [
    {
     "name": "stdout",
     "output_type": "stream",
     "text": [
      "a7609edb2bd76f9405b9dc2772278a3f\n"
     ]
    }
   ],
   "source": [
    "import requests\n",
    "from bs4 import BeautifulSoup  as BS\n",
    "import re\n",
    "\n",
    "session = requests.session()\n",
    "resp = requests.get(\"https://opensource-demo.orangehrmlive.com/\")\n",
    "#resp.cookies #--< if no session >\n",
    "soup = BS(resp.text)#,'lxml')\n",
    "csrf = soup.select(\"#csrf_token\")[0].get(\"value\")\n",
    "print(csrf)\n",
    "\n",
    "# regex expression instead of last 5 lines\n",
    "\n",
    "login_data = {\n",
    "    \n",
    "}\n",
    "#..\n",
    "#.."
   ]
  },
  {
   "cell_type": "markdown",
   "metadata": {},
   "source": [
    "### 9 --Python unit test (pytest)"
   ]
  },
  {
   "cell_type": "raw",
   "metadata": {},
   "source": [
    "pip install pytest\n",
    "pip install pytest-html\n",
    "\n",
    "move to working dir\n",
    "rename 'test files' and 'test methods': beginning with \"test\"\n",
    "pytest \n",
    "pytest test_sample.py\n",
    "pytest -v test_sample.py\n",
    "pytest -v --capture=no test_sample.py\n",
    "pytest -v --capture=no test_sample.py --html_report.html"
   ]
  },
  {
   "cell_type": "code",
   "execution_count": 38,
   "metadata": {},
   "outputs": [],
   "source": [
    "import unittest\n",
    "\n",
    "class Test1(unittest.TestCase):\n",
    "    \n",
    "    @classmethod\n",
    "    def setUpClass(cls):\n",
    "        print(\"This is a suite level setup\")\n",
    "    \n",
    "    @classmethod\n",
    "    def tearDownClass(cls):\n",
    "        print(\"This is a suite level tear down\")\n",
    "        \n",
    "    def setUp(self):\n",
    "        print(\"This is a case level setup\")\n",
    "    \n",
    "    def tearDown(self):\n",
    "        print(\"this is a case level tear down\")\n",
    "    \n",
    "    def test1(self):\n",
    "        print(\"This is test 1\")\n",
    "    def test2(self):\n",
    "        print(\"This is test 2\")\n",
    "\n",
    "#check with above commands in console"
   ]
  },
  {
   "cell_type": "markdown",
   "metadata": {},
   "source": [
    "### 10 --pytest (ordering and dependency)"
   ]
  },
  {
   "cell_type": "raw",
   "metadata": {},
   "source": [
    "PREREQUISITES AND DECORATORS:\n",
    "    pip install pytest-ordering\n",
    "    pip install pytest-dependency\n",
    "\n",
    "    Eg.\n",
    "    @pytest.mark.run(order=1) \n",
    "    @pytest.mark.first\n",
    "    @pytest.mark.last\n",
    "\n",
    "    @pytest.mark.dependency(depends =['Test2::testb'])"
   ]
  },
  {
   "cell_type": "code",
   "execution_count": 39,
   "metadata": {},
   "outputs": [],
   "source": [
    "#ordering\n",
    "import unittest\n",
    "import pytest\n",
    "\n",
    "class Test2(unittest.TestCase):\n",
    "    \n",
    "    @pytest.mark.run(order=1)\n",
    "    def testb(self):\n",
    "        pass\n",
    "    \n",
    "    @pytest.mark.run(order=2)\n",
    "    def testa(self):\n",
    "        pass\n",
    "    \n",
    "    @pytest.mark.run(order=4)\n",
    "    def testc(self):\n",
    "        pass\n",
    "    \n",
    "    @pytest.mark.run(order=3)\n",
    "    def testd(self):\n",
    "        pass\n",
    "#write in a file\n",
    "#check in console"
   ]
  },
  {
   "cell_type": "code",
   "execution_count": null,
   "metadata": {},
   "outputs": [],
   "source": [
    "#dependency\n",
    "import unittest\n",
    "import pytest\n",
    "\n",
    "class Test2(unittest.TestCase):\n",
    "    \n",
    "    @pytest.mark.run(order=1)\n",
    "    @pytest.mark.dependency()\n",
    "    def testb(self):\n",
    "        #pass             #--toggle\n",
    "        assert False      #--toggle\n",
    "    \n",
    "    @pytest.mark.dependency(depends =['Test2::testb'])  \n",
    "    def testa(self):\n",
    "        pass\n",
    "    \n",
    "    @pytest.mark.dependency()\n",
    "    def testc(self):\n",
    "        pass\n",
    "    \n",
    "    @pytest.mark.dependency()\n",
    "    def testd(self):\n",
    "        pass\n",
    "#write in a file\n",
    "#check in console"
   ]
  },
  {
   "cell_type": "markdown",
   "metadata": {},
   "source": [
    "### 11 --pytest (parameterization)"
   ]
  },
  {
   "cell_type": "raw",
   "metadata": {},
   "source": [
    "Eg. DECORATOR\n",
    "@pytest.mark.parameterize(\"a,b,e\",testData)"
   ]
  },
  {
   "cell_type": "code",
   "execution_count": null,
   "metadata": {},
   "outputs": [],
   "source": [
    "#1\n",
    "import pytest\n",
    "\n",
    "testData = [[1,2,2],\n",
    "            [2,4,8],\n",
    "            [3,3,9]]\n",
    "\n",
    "@pytest.mark.parameterize(\"a,b,e\",testData)\n",
    "def testMul(a,b,e):\n",
    "    assert a*b==e\n",
    "\n",
    "#write in file\n",
    "#test in console"
   ]
  },
  {
   "cell_type": "code",
   "execution_count": null,
   "metadata": {},
   "outputs": [],
   "source": [
    "#2\n",
    "import pytest\n",
    "\n",
    "testData = [[1,2,2],\n",
    "            [2,4,8],\n",
    "            [3,3,9]]\n",
    "\n",
    "setup = 0\n",
    "\n",
    "def setup():\n",
    "    print(\"This is a setup\")\n",
    "    global setup\n",
    "    setup = 0\n",
    "    \n",
    "@pytest.mark.parameterize(\"a,b,e\",testData)\n",
    "def testMul(a,b,e):\n",
    "    if setup:\n",
    "        setup()\n",
    "    assert a*b==e\n",
    "\n",
    "#write in file\n",
    "#test in console"
   ]
  },
  {
   "cell_type": "markdown",
   "metadata": {},
   "source": [
    "### 12 --pytest (parrallel testing) --threads "
   ]
  },
  {
   "cell_type": "raw",
   "metadata": {},
   "source": [
    "pip install pytest-xdist\n",
    "\n",
    "pytest -n 2\n",
    "pytest -n 4  # 4 = #threads --faster execution \n",
    "\n",
    "Problem with class setup (a disadvantage)\n",
    "Helps if tests are independent"
   ]
  },
  {
   "cell_type": "markdown",
   "metadata": {},
   "source": [
    "### 13 --json"
   ]
  },
  {
   "cell_type": "code",
   "execution_count": null,
   "metadata": {},
   "outputs": [],
   "source": [
    "import requests\n",
    "\n",
    "resp = requests.get(\"url\")\n",
    "resp = json.dumps(resp.json(), indent=4) ##\n",
    "print(resp)"
   ]
  },
  {
   "cell_type": "code",
   "execution_count": null,
   "metadata": {},
   "outputs": [],
   "source": [
    "##\n",
    "resp = str(resp.json())\n",
    "resp = json.loads(resp.replace(\"str1\",\"str2\"))\n",
    "resp = json.dumps(resp, indent = 4)\n",
    "print(resp)"
   ]
  },
  {
   "cell_type": "code",
   "execution_count": null,
   "metadata": {},
   "outputs": [],
   "source": [
    "import requests\n",
    "import pprint\n",
    "resp = request.get(\"url\")\n",
    "pprint(resp.json())"
   ]
  },
  {
   "cell_type": "raw",
   "metadata": {},
   "source": [
    "Debugger:\n",
    "import ipdb; ipdb.set_trace()"
   ]
  },
  {
   "cell_type": "markdown",
   "metadata": {},
   "source": [
    "### 14 --ipdb debugger for API testing"
   ]
  },
  {
   "cell_type": "code",
   "execution_count": 20,
   "metadata": {},
   "outputs": [
    {
     "name": "stdout",
     "output_type": "stream",
     "text": [
      "{'page': 2, 'per_page': 6, 'total': 12, 'total_pages': 2, 'data': [{'id': 7, 'email': 'michael.lawson@reqres.in', 'first_name': 'Michael', 'last_name': 'Lawson', 'avatar': 'https://s3.amazonaws.com/uifaces/faces/twitter/follettkyle/128.jpg'}, {'id': 8, 'email': 'lindsay.ferguson@reqres.in', 'first_name': 'Lindsay', 'last_name': 'Ferguson', 'avatar': 'https://s3.amazonaws.com/uifaces/faces/twitter/araa3185/128.jpg'}, {'id': 9, 'email': 'tobias.funke@reqres.in', 'first_name': 'Tobias', 'last_name': 'Funke', 'avatar': 'https://s3.amazonaws.com/uifaces/faces/twitter/vivekprvr/128.jpg'}, {'id': 10, 'email': 'byron.fields@reqres.in', 'first_name': 'Byron', 'last_name': 'Fields', 'avatar': 'https://s3.amazonaws.com/uifaces/faces/twitter/russoedu/128.jpg'}, {'id': 11, 'email': 'george.edwards@reqres.in', 'first_name': 'George', 'last_name': 'Edwards', 'avatar': 'https://s3.amazonaws.com/uifaces/faces/twitter/mrmoiree/128.jpg'}, {'id': 12, 'email': 'rachel.howell@reqres.in', 'first_name': 'Rachel', 'last_name': 'Howell', 'avatar': 'https://s3.amazonaws.com/uifaces/faces/twitter/hebertialmeida/128.jpg'}]}\n"
     ]
    }
   ],
   "source": [
    "import json\n",
    "import requests\n",
    "\n",
    "baseUrl = \"https://reqres.in\"\n",
    "def getResponse(params):\n",
    "    resp = requests.get(baseUrl + \"/api/users?page=2\", params=params)\n",
    "    return resp.json()\n",
    "\n",
    "params = {\"page\":2}\n",
    "resp = getResponse(params)\n",
    "print(resp)"
   ]
  },
  {
   "cell_type": "raw",
   "metadata": {},
   "source": [
    "DEBUGGER:\n",
    "import ipdb; ipdb.set_trace()\n",
    "\n",
    ">> n\n",
    ">> jump 11\n",
    ">> s\n",
    ">> r\n",
    ">> params\n",
    ">> params['page'] = 1\n",
    ">> get_response(params)"
   ]
  },
  {
   "cell_type": "markdown",
   "metadata": {},
   "source": [
    "### 15 --REST API basic authentication https://en.wikipedia.org/wiki/Basic_access_authentication"
   ]
  },
  {
   "cell_type": "raw",
   "metadata": {},
   "source": [
    "Install Jenkings:\n",
    "Jenkins is an open source automation server written in Java. The project was forked from Hudson after a dispute with Oracle. Common use case of Jenkins is automation of continuous integration (CI) and continuous delivery (CD) related tasks.\n",
    "\n",
    "Host jenkins server on local machine (baseUrl = \"http://localhost:8080\")\n",
    "java -jar jenkins.war \n",
    "\n",
    "Go to jenkins login page --> dashboard --> profile --> configure (COPY TOKEN FROM HERE)"
   ]
  },
  {
   "cell_type": "code",
   "execution_count": 44,
   "metadata": {},
   "outputs": [
    {
     "name": "stdout",
     "output_type": "stream",
     "text": [
      "{\"page\":1,\"per_page\":6,\"total\":12,\"total_pages\":2,\"data\":[{\"id\":1,\"name\":\"cerulean\",\"year\":2000,\"color\":\"#98B2D1\",\"pantone_value\":\"15-4020\"},{\"id\":2,\"name\":\"fuchsia rose\",\"year\":2001,\"color\":\"#C74375\",\"pantone_value\":\"17-2031\"},{\"id\":3,\"name\":\"true red\",\"year\":2002,\"color\":\"#BF1932\",\"pantone_value\":\"19-1664\"},{\"id\":4,\"name\":\"aqua sky\",\"year\":2003,\"color\":\"#7BC4C4\",\"pantone_value\":\"14-4811\"},{\"id\":5,\"name\":\"tigerlily\",\"year\":2004,\"color\":\"#E2583E\",\"pantone_value\":\"17-1456\"},{\"id\":6,\"name\":\"blue turquoise\",\"year\":2005,\"color\":\"#53B0AE\",\"pantone_value\":\"15-5217\"}]}\n",
      "<Response [200]>\n"
     ]
    }
   ],
   "source": [
    "import requests\n",
    "\n",
    "\"\"\"\n",
    "baseUrl = http://reqres.in\n",
    "baseUrl + \"/api/login\"\n",
    "{\n",
    "    \"email\": \"eve.holt@reqres.in\",\n",
    "    \"password\": \"cityslicka\"\n",
    "}\n",
    "\"\"\"\n",
    "authToken = b\"eve.holt@reqres.in\"\n",
    "userName = b\"cityslicka\"\n",
    "#baseUrl = \"http://localhost:8080\"\n",
    "baseUrl = \"http://reqres.in\"\n",
    "\n",
    "session = requests.session()\n",
    "resp = session.get(baseUrl + \"/api/login\")\n",
    "print(resp.text)\n",
    "print(resp)\n",
    "#test with jenkins"
   ]
  },
  {
   "cell_type": "code",
   "execution_count": 45,
   "metadata": {},
   "outputs": [
    {
     "name": "stdout",
     "output_type": "stream",
     "text": [
      "{\"page\":1,\"per_page\":6,\"total\":12,\"total_pages\":2,\"data\":[{\"id\":1,\"name\":\"cerulean\",\"year\":2000,\"color\":\"#98B2D1\",\"pantone_value\":\"15-4020\"},{\"id\":2,\"name\":\"fuchsia rose\",\"year\":2001,\"color\":\"#C74375\",\"pantone_value\":\"17-2031\"},{\"id\":3,\"name\":\"true red\",\"year\":2002,\"color\":\"#BF1932\",\"pantone_value\":\"19-1664\"},{\"id\":4,\"name\":\"aqua sky\",\"year\":2003,\"color\":\"#7BC4C4\",\"pantone_value\":\"14-4811\"},{\"id\":5,\"name\":\"tigerlily\",\"year\":2004,\"color\":\"#E2583E\",\"pantone_value\":\"17-1456\"},{\"id\":6,\"name\":\"blue turquoise\",\"year\":2005,\"color\":\"#53B0AE\",\"pantone_value\":\"15-5217\"}]}\n",
      "<Response [200]>\n"
     ]
    }
   ],
   "source": [
    "#or\n",
    "import requests\n",
    "from base64 import b64encode\n",
    "\n",
    "authToken = b\"eve.holt@reqres.in\"\n",
    "userName = b\"cityslicka\"\n",
    "#baseUrl = \"http://localhost:8080\"\n",
    "baseUrl = \"http://reqres.in\"\n",
    "\n",
    "session = requests.session()\n",
    "s = userName + b\":\" + authToken\n",
    "s = b64encode(s).decode('ascii')\n",
    "header = {\"Authorization\":\"basic \"+ s}\n",
    "resp = session.get(baseUrl + \"/api/login\", headers=header)\n",
    "print(resp.text)\n",
    "print(resp)\n",
    "#test with jenkins"
   ]
  },
  {
   "cell_type": "markdown",
   "metadata": {},
   "source": [
    "### 16 --REST API basic authentication with 'requests' module "
   ]
  },
  {
   "cell_type": "code",
   "execution_count": 40,
   "metadata": {},
   "outputs": [
    {
     "name": "stdout",
     "output_type": "stream",
     "text": [
      "{'page': 1, 'per_page': 6, 'total': 12, 'total_pages': 2, 'data': [{'id': 1, 'name': 'cerulean', 'year': 2000, 'color': '#98B2D1', 'pantone_value': '15-4020'}, {'id': 2, 'name': 'fuchsia rose', 'year': 2001, 'color': '#C74375', 'pantone_value': '17-2031'}, {'id': 3, 'name': 'true red', 'year': 2002, 'color': '#BF1932', 'pantone_value': '19-1664'}, {'id': 4, 'name': 'aqua sky', 'year': 2003, 'color': '#7BC4C4', 'pantone_value': '14-4811'}, {'id': 5, 'name': 'tigerlily', 'year': 2004, 'color': '#E2583E', 'pantone_value': '17-1456'}, {'id': 6, 'name': 'blue turquoise', 'year': 2005, 'color': '#53B0AE', 'pantone_value': '15-5217'}]}\n"
     ]
    }
   ],
   "source": [
    "#***\n",
    "import requests\n",
    "from requests.auth import HTTPBasicAuth\n",
    "\n",
    "authToken = \"eve.holt@reqres.in\"\n",
    "userName = \"cityslicka\"\n",
    "baseUrl = \"https://reqres.in\"\n",
    "\n",
    "session = requests.session()\n",
    "resp = session.get(baseUrl + \"/api/login\", auth=HTTPBasicAuth(userName, authToken))\n",
    "print(resp.json())\n",
    "#test with Jenkins"
   ]
  },
  {
   "cell_type": "code",
   "execution_count": 41,
   "metadata": {},
   "outputs": [
    {
     "name": "stdout",
     "output_type": "stream",
     "text": [
      "<Response [200]>\n"
     ]
    }
   ],
   "source": [
    "print(resp)"
   ]
  },
  {
   "cell_type": "markdown",
   "metadata": {},
   "source": [
    "### 17 --do-- session auth"
   ]
  },
  {
   "cell_type": "code",
   "execution_count": 43,
   "metadata": {},
   "outputs": [
    {
     "name": "stdout",
     "output_type": "stream",
     "text": [
      "<Response [200]>\n",
      "{'page': 1, 'per_page': 6, 'total': 12, 'total_pages': 2, 'data': [{'id': 1, 'name': 'cerulean', 'year': 2000, 'color': '#98B2D1', 'pantone_value': '15-4020'}, {'id': 2, 'name': 'fuchsia rose', 'year': 2001, 'color': '#C74375', 'pantone_value': '17-2031'}, {'id': 3, 'name': 'true red', 'year': 2002, 'color': '#BF1932', 'pantone_value': '19-1664'}, {'id': 4, 'name': 'aqua sky', 'year': 2003, 'color': '#7BC4C4', 'pantone_value': '14-4811'}, {'id': 5, 'name': 'tigerlily', 'year': 2004, 'color': '#E2583E', 'pantone_value': '17-1456'}, {'id': 6, 'name': 'blue turquoise', 'year': 2005, 'color': '#53B0AE', 'pantone_value': '15-5217'}]}\n"
     ]
    }
   ],
   "source": [
    "##addon: session login\n",
    "session = requests.session()\n",
    "session.auth = HTTPBasicAuth(userName, authToken) ##-----< *** >\n",
    "resp = session.get(baseUrl + \"/api/login\")\n",
    "print(resp)\n",
    "print(resp.json())"
   ]
  },
  {
   "cell_type": "raw",
   "metadata": {},
   "source": [
    "---------------------------------------------------------------------------------------------\n",
    "---------------------------------COMPLETE the below codes------------------------------------\n",
    "---------------------------------------------------------------------------------------------\n",
    "vvvvvvvvvvvvvvvvvvvvvvvvvvvvvvvvvvvvvvvvvvvvvvvvvvvvvvvvvvvvvvvvvvvvvvvvvvvvvvvvvvvvvvvvvvvvv"
   ]
  },
  {
   "cell_type": "markdown",
   "metadata": {},
   "source": [
    "### 18 --json parsing with 'relative json path' "
   ]
  },
  {
   "cell_type": "raw",
   "metadata": {},
   "source": [
    "pip install jsonpath-rw"
   ]
  },
  {
   "cell_type": "code",
   "execution_count": 7,
   "metadata": {},
   "outputs": [
    {
     "ename": "ModuleNotFoundError",
     "evalue": "No module named 'jsonpath_rw'",
     "output_type": "error",
     "traceback": [
      "\u001b[0;31m---------------------------------------------------------------------------\u001b[0m",
      "\u001b[0;31mModuleNotFoundError\u001b[0m                       Traceback (most recent call last)",
      "\u001b[0;32m<ipython-input-7-4ba37c67906e>\u001b[0m in \u001b[0;36m<module>\u001b[0;34m\u001b[0m\n\u001b[1;32m      1\u001b[0m \u001b[0;32mimport\u001b[0m \u001b[0mjson\u001b[0m\u001b[0;34m\u001b[0m\u001b[0;34m\u001b[0m\u001b[0m\n\u001b[0;32m----> 2\u001b[0;31m \u001b[0;32mfrom\u001b[0m \u001b[0mjsonpath_rw\u001b[0m \u001b[0;32mimport\u001b[0m \u001b[0mparse\u001b[0m\u001b[0;34m,\u001b[0m \u001b[0mjsonpath\u001b[0m\u001b[0;34m\u001b[0m\u001b[0;34m\u001b[0m\u001b[0m\n\u001b[0m\u001b[1;32m      3\u001b[0m \u001b[0;34m\u001b[0m\u001b[0m\n\u001b[1;32m      4\u001b[0m \u001b[0;32mwith\u001b[0m \u001b[0mopen\u001b[0m\u001b[0;34m(\u001b[0m\u001b[0;34m\"sample.json\"\u001b[0m\u001b[0;34m,\u001b[0m\u001b[0;34m\"r\"\u001b[0m\u001b[0;34m)\u001b[0m \u001b[0;32mas\u001b[0m \u001b[0mf\u001b[0m\u001b[0;34m:\u001b[0m\u001b[0;34m\u001b[0m\u001b[0;34m\u001b[0m\u001b[0m\n\u001b[1;32m      5\u001b[0m     \u001b[0mdata\u001b[0m \u001b[0;34m=\u001b[0m \u001b[0mjson\u001b[0m\u001b[0;34m.\u001b[0m\u001b[0mload\u001b[0m\u001b[0;34m(\u001b[0m\u001b[0mf\u001b[0m\u001b[0;34m)\u001b[0m\u001b[0;34m\u001b[0m\u001b[0;34m\u001b[0m\u001b[0m\n",
      "\u001b[0;31mModuleNotFoundError\u001b[0m: No module named 'jsonpath_rw'"
     ]
    }
   ],
   "source": [
    "import json\n",
    "from jsonpath_rw import parse, jsonpath\n",
    "\n",
    "with open(\"sample.json\",\"r\") as f:\n",
    "    data = json.load(f)\n",
    "\n",
    "jsonExp = parse(\"$..SortAs\")   #-----< $..searchString >\n",
    "result = [match.value for match in jsonExp.find(data)]\n",
    "print(result)"
   ]
  },
  {
   "cell_type": "markdown",
   "metadata": {},
   "source": [
    "### 19 --json parse 'dotted-dict' "
   ]
  },
  {
   "cell_type": "raw",
   "metadata": {},
   "source": [
    "pip install dotted-dict"
   ]
  },
  {
   "cell_type": "code",
   "execution_count": 8,
   "metadata": {},
   "outputs": [
    {
     "ename": "ModuleNotFoundError",
     "evalue": "No module named 'dotted_dict'",
     "output_type": "error",
     "traceback": [
      "\u001b[0;31m---------------------------------------------------------------------------\u001b[0m",
      "\u001b[0;31mModuleNotFoundError\u001b[0m                       Traceback (most recent call last)",
      "\u001b[0;32m<ipython-input-8-3b5e6ecff8a1>\u001b[0m in \u001b[0;36m<module>\u001b[0;34m\u001b[0m\n\u001b[1;32m      1\u001b[0m \u001b[0;32mimport\u001b[0m \u001b[0mrequests\u001b[0m\u001b[0;34m\u001b[0m\u001b[0;34m\u001b[0m\u001b[0m\n\u001b[0;32m----> 2\u001b[0;31m \u001b[0;32mfrom\u001b[0m \u001b[0mdotted_dict\u001b[0m \u001b[0;32mimport\u001b[0m \u001b[0mDottedDict\u001b[0m \u001b[0;32mas\u001b[0m \u001b[0mdot\u001b[0m\u001b[0;34m\u001b[0m\u001b[0;34m\u001b[0m\u001b[0m\n\u001b[0m\u001b[1;32m      3\u001b[0m \u001b[0;34m\u001b[0m\u001b[0m\n\u001b[1;32m      4\u001b[0m \u001b[0mbaseUrl\u001b[0m \u001b[0;34m=\u001b[0m \u001b[0;34m\"http://reqres.in\"\u001b[0m\u001b[0;34m\u001b[0m\u001b[0;34m\u001b[0m\u001b[0m\n\u001b[1;32m      5\u001b[0m \u001b[0msession\u001b[0m \u001b[0;34m=\u001b[0m \u001b[0mrequests\u001b[0m\u001b[0;34m.\u001b[0m\u001b[0msession\u001b[0m\u001b[0;34m(\u001b[0m\u001b[0;34m)\u001b[0m\u001b[0;34m\u001b[0m\u001b[0;34m\u001b[0m\u001b[0m\n",
      "\u001b[0;31mModuleNotFoundError\u001b[0m: No module named 'dotted_dict'"
     ]
    }
   ],
   "source": [
    "import requests\n",
    "from dotted_dict import DottedDict as dot\n",
    "\n",
    "baseUrl = \"http://reqres.in\"\n",
    "session = requests.session()\n",
    "session.get(baseUrl + \".....\")\n",
    "\n",
    "\"\"\"CONVENTIONAL \n",
    "idValue = resp.json()['data'][0]['id']\n",
    "idValue = resp.data[0].id\n",
    "\"\"\"\n",
    "\n",
    "resp = dot(resp.json())\n",
    "print(resp.data[0].id)\n",
    "#or if key is an integer '_'\n",
    "print(resp._1234.id)\n"
   ]
  }
 ],
 "metadata": {
  "kernelspec": {
   "display_name": "Python [conda env:ai]",
   "language": "python",
   "name": "conda-env-ai-py"
  },
  "language_info": {
   "codemirror_mode": {
    "name": "ipython",
    "version": 3
   },
   "file_extension": ".py",
   "mimetype": "text/x-python",
   "name": "python",
   "nbconvert_exporter": "python",
   "pygments_lexer": "ipython3",
   "version": "3.7.3"
  }
 },
 "nbformat": 4,
 "nbformat_minor": 2
}
