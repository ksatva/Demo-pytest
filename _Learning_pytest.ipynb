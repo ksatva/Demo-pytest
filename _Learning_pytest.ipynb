{
 "cells": [
  {
   "cell_type": "markdown",
   "metadata": {},
   "source": [
    "## Learning: Python unit testing framework (pytest)"
   ]
  },
  {
   "cell_type": "markdown",
   "metadata": {},
   "source": [
    "## source: https://www.youtube.com/watch?v=bbp_849-RZ4"
   ]
  },
  {
   "cell_type": "raw",
   "metadata": {},
   "source": [
    "UNIT TESTING: Unit testing is a \"software testing method\" by which individual units of source code are tested to determine wheather they are fit for use. (wikipedia)\n",
    "\n",
    "Modules:\n",
    "    unittest: standard python library\n",
    "    nose: not a standard python library (simpler tests than unittest)\n",
    "   *pytest: not a python standard library (POPULAR)"
   ]
  },
  {
   "cell_type": "code",
   "execution_count": 1,
   "metadata": {},
   "outputs": [],
   "source": [
    "#example source code\n",
    "#mathFunc.py\n",
    "def add(x,y=2):\n",
    "    return x+y\n",
    "\n",
    "def product(x,y=2):\n",
    "    return x*y"
   ]
  },
  {
   "cell_type": "code",
   "execution_count": null,
   "metadata": {},
   "outputs": [],
   "source": [
    "#test code\n",
    "#test_mathFunc.py\n",
    "import mathFunc\n",
    "\n",
    "def test_add():\n",
    "    assert mathFunc.add(7,3) == 10\n",
    "    assert mathFunc.add(5) == 7\n",
    "    assert mathFunc.add(7) == 9\n",
    "\n",
    "def test_product():\n",
    "    assert mathFunc.product(5,5) == 25\n",
    "    assert mathFunc.product(5) == 10\n",
    "    assert mathFunc.product(7) == 14      "
   ]
  },
  {
   "cell_type": "raw",
   "metadata": {},
   "source": [
    "TEST COMMANDS:\n",
    "\n",
    "pytest test_mathFunc.py\n",
    "pytest -v test_mathFunc.py\n",
    "pytest -v test_mathFunc.py::test_add\n",
    "pytest -v -k \"add\"\n",
    "pytest -v -k \"add or string\"\n",
    "pytest -v -m number            ## @pytest.mark.number (decorator before test function)\n",
    "pytest -v -x                   ##exits at first fail\n",
    "pytest -v -x --tb=no\n",
    "pytest -v --maxfail=2\n",
    "pytest -v -s             #or >>> pytest -v --capture=no  ##FOR PRINT STATEMENTS IN SOURCE CODE\n",
    "pytest -v -q                   ##quiet mode\n",
    "pytest -q\n"
   ]
  },
  {
   "cell_type": "markdown",
   "metadata": {},
   "source": [
    "### Parameterize "
   ]
  },
  {
   "cell_type": "code",
   "execution_count": 2,
   "metadata": {},
   "outputs": [],
   "source": [
    "##source code\n",
    "def add(x,y):\n",
    "    return x+y"
   ]
  },
  {
   "cell_type": "code",
   "execution_count": null,
   "metadata": {},
   "outputs": [],
   "source": [
    "## bad test code\n",
    "import mathFunc\n",
    "import pytest\n",
    "\n",
    "def test_add():\n",
    "    assert mathFunc.add(7,3) == 10\n",
    "\n",
    "def test_addString():\n",
    "    assert mathFunc.add(\"Hello\",\"World\") == \"Hello World\"\n",
    "\n",
    "def test_addFloat():\n",
    "    assert mathFunc.add(10.5,5.5) == 16"
   ]
  },
  {
   "cell_type": "code",
   "execution_count": null,
   "metadata": {},
   "outputs": [],
   "source": [
    "##parameterized test code\n",
    "import mathFunc\n",
    "import pytest\n",
    "\n",
    "@pytest.mark.parameterize(num1,num2,result,\n",
    "                         [\n",
    "                             (7,3,10),\n",
    "                             (\"Hello\",\"World\",\"HelloWorld\"),\n",
    "                             (10.5,5.5,16)\n",
    "                         ])\n",
    "def test_add(num1,num2,result):\n",
    "    assert mathFunc.add(num1,num2) == result\n",
    "\n",
    "#run in console"
   ]
  },
  {
   "cell_type": "markdown",
   "metadata": {},
   "source": [
    "### Fixures "
   ]
  },
  {
   "cell_type": "code",
   "execution_count": 5,
   "metadata": {},
   "outputs": [],
   "source": [
    "#source code\n",
    "import json\n",
    "\n",
    "class studentDB():\n",
    "    def __init__(self):\n",
    "        self.__data = None\n",
    "    \n",
    "    def connect(self,dataFile):\n",
    "        with open(dataFile) as jsonFile:\n",
    "            self.__data = json.load(jsonFile)\n",
    "    \n",
    "    def getData(self,name):\n",
    "        for student in self.__data['students']:\n",
    "            if student['name'] == name:\n",
    "                return student\n",
    "            \n",
    "    def close():\n",
    "        pass"
   ]
  },
  {
   "cell_type": "code",
   "execution_count": null,
   "metadata": {},
   "outputs": [],
   "source": [
    "#bad test code\n",
    "from mathFunc import studentDB\n",
    "import pytest\n",
    "\n",
    "def test_scottData():\n",
    "    db = studentDB()\n",
    "    db.connect('data.json')\n",
    "    scottData = db.getData('scott')\n",
    "    assert scottData['id'] == 1\n",
    "    assert scottData['name'] == 'scott'\n",
    "    assert scottData['result'] == 'pass'\n",
    "\n",
    "def test_markData():\n",
    "    db = studentDB()\n",
    "    db.connect('data.json')\n",
    "    markData = db.getData('scott')\n",
    "    assert markData['id'] == 2\n",
    "    assert markData['name'] == 'mark'\n",
    "    assert markData['result'] == 'fail'  "
   ]
  },
  {
   "cell_type": "raw",
   "metadata": {},
   "source": [
    "DRAWBACKS: code repetition\n",
    "SOLUTION:\n",
    "    1) setup and teardown method\n",
    "    2) pytest fixtures"
   ]
  },
  {
   "cell_type": "code",
   "execution_count": null,
   "metadata": {},
   "outputs": [],
   "source": [
    "## 1) setup and teardown (test code)\n",
    "from mathFunc import studentDB\n",
    "import pytest\n",
    "\n",
    "db = None\n",
    "def setup_module(module):\n",
    "    print('--------setup--------')\n",
    "    global db\n",
    "    db = studentDB()\n",
    "    db.connect('data.json')\n",
    "    \n",
    "def teardown_module(module):\n",
    "    print('--------teardown--------')\n",
    "    db.close()\n",
    "\n",
    "def test_scottData():\n",
    "    scottData = db.getData('scott')\n",
    "    assert scottData['id'] == 1\n",
    "    assert scottData['name'] == 'scott'\n",
    "    assert scottData['result'] == 'pass'\n",
    "\n",
    "def test_markData():\n",
    "    markData = db.getData('scott')\n",
    "    assert markData['id'] == 2\n",
    "    assert markData['name'] == 'mark'\n",
    "    assert markData['result'] == 'fail'  "
   ]
  },
  {
   "cell_type": "code",
   "execution_count": null,
   "metadata": {},
   "outputs": [],
   "source": [
    "## 2)pytest fixture (test code)\n",
    "from mathFunc import studentDB\n",
    "import pytest\n",
    "\n",
    "@pytest.fixture(scope='module')\n",
    "def db():\n",
    "    print('------setup--------')\n",
    "    db = studentsDB\n",
    "    db.connect('data.json')\n",
    "    yeild db\n",
    "    print('-------teardown-------')\n",
    "    db.close()\n",
    "    \n",
    "def test_scottData():\n",
    "    scottData = db.getData('scott')\n",
    "    assert scottData['id'] == 1\n",
    "    assert scottData['name'] == 'scott'\n",
    "    assert scottData['result'] == 'pass'\n",
    "\n",
    "def test_markData():\n",
    "    markData = db.getData('scott')\n",
    "    assert markData['id'] == 2\n",
    "    assert markData['name'] == 'mark'\n",
    "    assert markData['result'] == 'fail'  "
   ]
  },
  {
   "cell_type": "raw",
   "metadata": {},
   "source": [
    "NOTE:\n",
    "Copy codes in a file \n",
    "    source code: mathFunc.py\n",
    "    test code: test_mathFunc.py\n",
    "    json file: data.json\n",
    "Run in console"
   ]
  },
  {
   "cell_type": "raw",
   "metadata": {},
   "source": [
    "#file: data.json\n",
    "{\n",
    "    \"students\": [\n",
    "        {\n",
    "            \"id\":1,\n",
    "            \"name\": \"scott\",\n",
    "            \"result\" : \"pass\"            \n",
    "        },\n",
    "        {            \n",
    "            \"id\": 2,\n",
    "            \"name\": \"mark\",\n",
    "            \"result\" : \"fail\"\n",
    "        }\n",
    "    ]\n",
    "}"
   ]
  }
 ],
 "metadata": {
  "kernelspec": {
   "display_name": "Python [conda env:ai]",
   "language": "python",
   "name": "conda-env-ai-py"
  },
  "language_info": {
   "codemirror_mode": {
    "name": "ipython",
    "version": 3
   },
   "file_extension": ".py",
   "mimetype": "text/x-python",
   "name": "python",
   "nbconvert_exporter": "python",
   "pygments_lexer": "ipython3",
   "version": "3.7.3"
  }
 },
 "nbformat": 4,
 "nbformat_minor": 2
}
